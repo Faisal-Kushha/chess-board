{
 "cells": [
  {
   "cell_type": "code",
   "execution_count": 300,
   "metadata": {},
   "outputs": [],
   "source": [
    "%matplotlib inline\n",
    "import numpy as np\n",
    "import matplotlib.pyplot as plt"
   ]
  },
  {
   "cell_type": "code",
   "execution_count": 301,
   "metadata": {},
   "outputs": [
    {
     "data": {
      "image/png": "[encoded data removed]",
      "text/plain": [
       "<Figure size 432x288 with 1 Axes>"
      ]
     },
     "metadata": {
      "needs_background": "light"
     },
     "output_type": "display_data"
    }
   ],
   "source": [
    "class ChessBoard:\n",
    "    def __init__(self):\n",
    "        self.grid = np.zeros((8,8,3),dtype=float)\n",
    "        for row in range(8):\n",
    "            for col in range(8):\n",
    "                if (not col % 2 and not row % 2) or (col % 2 and row % 2):\n",
    "                    self.grid[row, col] = (1,1,1)\n",
    "    \n",
    "    def render(self):\n",
    "        plt.imshow(self.grid)\n",
    "\n",
    "    def add_red(self, row, col):\n",
    "        self.grid[row, col] = (1,.2,0)\n",
    "\n",
    "    def add_blue(self, row, col):\n",
    "        self.grid[row, col] = (0,1,1)\n",
    "\n",
    "    def is_under_attack(self):\n",
    "        pass\n",
    "\n",
    "\n",
    "board = ChessBoard()\n",
    "board.render()"
   ]
  },
  {
   "cell_type": "code",
   "execution_count": 302,
   "metadata": {},
   "outputs": [
    {
     "name": "stdout",
     "output_type": "stream",
     "text": [
      "Under Attack: True\n"
     ]
    },
    {
     "data": {
      "image/png": "[encoded data removed]",
      "text/plain": [
       "<Figure size 432x288 with 1 Axes>"
      ]
     },
     "metadata": {
      "needs_background": "light"
     },
     "output_type": "display_data"
    }
   ],
   "source": [
    "def test_queens_same_row():\n",
    "    board = ChessBoard()\n",
    "    board.add_blue(6,7)\n",
    "    board.add_red(6,2)\n",
    "    board.render()\n",
    "    assert board.is_under_attack() == True\n",
    "    print(f\"Under Attack: {board.is_under_attack()}\")\n",
    "test_queens_same_row()"
   ]
  },
  {
   "cell_type": "code",
   "execution_count": 303,
   "metadata": {},
   "outputs": [
    {
     "name": "stdout",
     "output_type": "stream",
     "text": [
      "Under Attack: True\n"
     ]
    },
    {
     "data": {
      "image/png": "[encoded data removed]",
      "text/plain": [
       "<Figure size 432x288 with 1 Axes>"
      ]
     },
     "metadata": {
      "needs_background": "light"
     },
     "output_type": "display_data"
    }
   ],
   "source": [
    "def test_queens_same_col():\n",
    "    board = ChessBoard()\n",
    "    board.add_blue(1,3)\n",
    "    board.add_red(4,3)\n",
    "    board.render()\n",
    "    assert board.is_under_attack() == True\n",
    "    print(f\"Under Attack: {board.is_under_attack()}\")\n",
    "test_queens_same_col()"
   ]
  },
  {
   "cell_type": "code",
   "execution_count": 304,
   "metadata": {},
   "outputs": [
    {
     "name": "stdout",
     "output_type": "stream",
     "text": [
      "Under Attack: True\n"
     ]
    },
    {
     "data": {
      "image/png": "[encoded data removed]",
      "text/plain": [
       "<Figure size 432x288 with 1 Axes>"
      ]
     },
     "metadata": {
      "needs_background": "light"
     },
     "output_type": "display_data"
    }
   ],
   "source": [
    "def test_queens_same_diag():\n",
    "    board = ChessBoard()\n",
    "    board.add_blue(0,0)\n",
    "    board.add_red(7,7)\n",
    "    board.render()\n",
    "    assert board.is_under_attack() == True\n",
    "    print(f\"Under Attack: {board.is_under_attack()}\")\n",
    "test_queens_same_diag()"
   ]
  },
  {
   "cell_type": "code",
   "execution_count": 305,
   "metadata": {},
   "outputs": [
    {
     "name": "stdout",
     "output_type": "stream",
     "text": [
      "Under Attack: False\n"
     ]
    },
    {
     "data": {
      "image/png": "[encoded data removed]",
      "text/plain": [
       "<Figure size 432x288 with 1 Axes>"
      ]
     },
     "metadata": {
      "needs_background": "light"
     },
     "output_type": "display_data"
    }
   ],
   "source": [
    "def test_queens_safe():\n",
    "    board = ChessBoard()\n",
    "    board.add_blue(6,7)\n",
    "    board.add_red(2,6)\n",
    "    board.render()\n",
    "    assert board.is_under_attack() == False\n",
    "    print(f\"Under Attack: {board.is_under_attack()}\")\n",
    "test_queens_safe()"
   ]
  },
  {
   "cell_type": "code",
   "execution_count": 306,
   "metadata": {},
   "outputs": [
    {
     "name": "stdout",
     "output_type": "stream",
     "text": [
      "Under Attack: True\n"
     ]
    },
    {
     "data": {
      "image/png": "[encoded data removed]",
      "text/plain": [
       "<Figure size 432x288 with 1 Axes>"
      ]
     },
     "metadata": {
      "needs_background": "light"
     },
     "output_type": "display_data"
    }
   ],
   "source": [
    "def test_queens_same_diag2():\n",
    "    board = ChessBoard()\n",
    "    board.add_red(0,7)\n",
    "    board.add_blue(2,5)  \n",
    "    board.render()\n",
    "    assert board.is_under_attack() == True\n",
    "    print(f\"Under Attack: {board.is_under_attack()}\")\n",
    "test_queens_same_diag2()"
   ]
  }
 ],
 "metadata": {
  "interpreter": {
   "hash": "db1da84e70a21f5352535488238469879d7a1de603efb53bbd740043a93bf061"
  },
  "kernelspec": {
   "display_name": "Python 3.9.5 64-bit ('.venv': poetry)",
   "name": "python3"
  },
  "language_info": {
   "codemirror_mode": {
    "name": "ipython",
    "version": 3
   },
   "file_extension": ".py",
   "mimetype": "text/x-python",
   "name": "python",
   "nbconvert_exporter": "python",
   "pygments_lexer": "ipython3",
   "version": "3.9.5"
  }
 },
 "nbformat": 4,
 "nbformat_minor": 4
}
